{
 "cells": [
  {
   "cell_type": "markdown",
   "id": "60755b3a-44d5-4b83-8d1c-921ab9dc4d6d",
   "metadata": {
    "tags": []
   },
   "source": [
    "# Predicting US Median Housing Sales Price\n",
    "\n",
    "## Goal\n",
    "\n",
    "The goal of this project is to predict median US house sales prices using the FRED (Federal Reserve Economic Data) timeseries API and Python implementations of machine learning models.\n",
    "\n",
    "## Summary\n",
    "\n",
    "This README provides an overview of the process to fetch and explore data from the FRED timeseries API and use Python for predictive modeling. The outlined steps will guide you through the process of data retrieval, exploration, and implementation of machine learning models for predicting median US house sales prices.\n",
    "\n",
    "### Authors\n",
    "\n",
    "- Joshua Lee\n",
    "- Evan Grillo"
   ]
  },
  {
   "cell_type": "markdown",
   "id": "1ae5163d-3874-45d2-868e-383148253a87",
   "metadata": {
    "tags": []
   },
   "source": [
    "### Imports Section"
   ]
  },
  {
   "cell_type": "code",
   "execution_count": 1,
   "id": "977cd230-700b-44dc-8646-0fcc73fa0fd8",
   "metadata": {
    "tags": []
   },
   "outputs": [
    {
     "name": "stderr",
     "output_type": "stream",
     "text": [
      "2024-02-15 20:46:14.732691: I tensorflow/core/platform/cpu_feature_guard.cc:182] This TensorFlow binary is optimized to use available CPU instructions in performance-critical operations.\n",
      "To enable the following instructions: AVX2 AVX512F AVX512_VNNI FMA, in other operations, rebuild TensorFlow with the appropriate compiler flags.\n"
     ]
    }
   ],
   "source": [
    "import pandas as pd\n",
    "import seaborn as sns\n",
    "\n",
    "import matplotlib.pyplot as plt\n",
    "import matplotlib.ticker as ticker\n",
    "\n",
    "from dotenv import load_dotenv\n",
    "import os\n",
    "load_dotenv()\n",
    "\n",
    "from fredapi import Fred\n",
    "\n",
    "from sklearn.preprocessing import StandardScaler\n",
    "from sklearn.metrics import mean_squared_error\n",
    "from sklearn.metrics import r2_score\n",
    "from sklearn.preprocessing import MinMaxScaler\n",
    "from sklearn.tree import DecisionTreeRegressor\n",
    "from sklearn.ensemble import RandomForestRegressor\n",
    "from sklearn.neighbors import KNeighborsRegressor\n",
    "\n",
    "\n",
    "import tensorflow as tf\n",
    "from tensorflow.keras.models import Sequential\n",
    "from tensorflow.keras.layers import Dense\n",
    "\n",
    "import matplotlib.pyplot as plt\n",
    "import numpy as np\n",
    "\n",
    "\n",
    "from scipy import stats"
   ]
  },
  {
   "cell_type": "markdown",
   "id": "42ab6014-804e-4ef0-a2ba-af25f5554fe0",
   "metadata": {},
   "source": [
    "### Env Variable &amp; Create FRED instance"
   ]
  },
  {
   "cell_type": "code",
   "execution_count": 2,
   "id": "3328201d-f88a-4ca4-9f9c-5ca0b03e74a6",
   "metadata": {
    "tags": []
   },
   "outputs": [],
   "source": [
    "# env variable\n",
    "api_key = os.getenv('FRED_API_KEY')\n",
    "fred = Fred(api_key=api_key)"
   ]
  },
  {
   "cell_type": "markdown",
   "id": "57df2bb4-b686-4b48-b796-cb433de21ff7",
   "metadata": {},
   "source": [
    "# Initialization\n",
    "\n",
    "The `fred_timeseries_mapping` dictionary serves as a mapping between FRED (Federal Reserve Economic Data) timeseries API codes and their corresponding names.\n",
    "\n",
    "Each timeseries in this mapping represents economic indicators, with reporting frequencies ranging from the early 20th century through the current week.\n",
    "\n",
    "## Process Overview\n",
    "\n",
    "1. **Data Retrieval:**\n",
    "   - The `fred_timeseries_mapping` is a dictionary containing FRED timeseries API codes as keys and their corresponding names as values.\n",
    "\n",
    "2. **Data Collection:**\n",
    "   - We initialize a list to store data frames. Iterating through the dictionary, we request each timeseries code and group the data by the year and quarter. This grouping ensures that the index for each series aligns, accommodating inconsistent reporting frequencies.\n",
    "\n",
    "3. **DataFrame Construction:**\n",
    "   - After iterating through the dictionary, we create a main dataframe by concatenating the list of dataframes. The FRED Python wrapper facilitates this process by building HTTP URLs and handling tasks like processing datetime data, setting it as the index.\n",
    "\n",
    "4. **Handling Missing Data:**\n",
    "   - We use the `dropna` function to remove any missing data points, ensuring a clean and complete dataset.\n",
    "\n",
    "This initialization process lays the foundation for subsequent data analysis and machine learning tasks. The resulting dataframe is ready for feature engineering, model training, and predictive analytics.\n"
   ]
  },
  {
   "cell_type": "code",
   "execution_count": 3,
   "id": "6b39cd4b-b704-40e7-8c1d-b40d8098c3fb",
   "metadata": {
    "tags": []
   },
   "outputs": [
    {
     "data": {
      "text/html": [
       "<div>\n",
       "<style scoped>\n",
       "    .dataframe tbody tr th:only-of-type {\n",
       "        vertical-align: middle;\n",
       "    }\n",
       "\n",
       "    .dataframe tbody tr th {\n",
       "        vertical-align: top;\n",
       "    }\n",
       "\n",
       "    .dataframe thead th {\n",
       "        text-align: right;\n",
       "    }\n",
       "</style>\n",
       "<table border=\"1\" class=\"dataframe\">\n",
       "  <thead>\n",
       "    <tr style=\"text-align: right;\">\n",
       "      <th></th>\n",
       "      <th></th>\n",
       "      <th>CPIAUCSL</th>\n",
       "      <th>HOUST</th>\n",
       "      <th>CSUSHPINSA</th>\n",
       "      <th>HPIPONM226S</th>\n",
       "      <th>ETOTALUSQ176N</th>\n",
       "      <th>USSTHPI</th>\n",
       "      <th>WPUSI012011</th>\n",
       "      <th>ILSTHPI</th>\n",
       "      <th>MORTGAGE30US</th>\n",
       "      <th>MORTGAGE15US</th>\n",
       "      <th>MSACSR</th>\n",
       "      <th>MSPUS</th>\n",
       "    </tr>\n",
       "  </thead>\n",
       "  <tbody>\n",
       "    <tr>\n",
       "      <th rowspan=\"3\" valign=\"top\">2000</th>\n",
       "      <th>2</th>\n",
       "      <td>171.433333</td>\n",
       "      <td>1586.666667</td>\n",
       "      <td>103.699000</td>\n",
       "      <td>139.566667</td>\n",
       "      <td>116047.0</td>\n",
       "      <td>233.89</td>\n",
       "      <td>145.166667</td>\n",
       "      <td>245.58</td>\n",
       "      <td>8.316154</td>\n",
       "      <td>7.991538</td>\n",
       "      <td>4.533333</td>\n",
       "      <td>163200.0</td>\n",
       "    </tr>\n",
       "    <tr>\n",
       "      <th>3</th>\n",
       "      <td>173.000000</td>\n",
       "      <td>1503.666667</td>\n",
       "      <td>106.459333</td>\n",
       "      <td>141.780000</td>\n",
       "      <td>116482.0</td>\n",
       "      <td>238.16</td>\n",
       "      <td>143.833333</td>\n",
       "      <td>249.63</td>\n",
       "      <td>8.020000</td>\n",
       "      <td>7.733077</td>\n",
       "      <td>4.166667</td>\n",
       "      <td>168800.0</td>\n",
       "    </tr>\n",
       "    <tr>\n",
       "      <th>4</th>\n",
       "      <td>174.233333</td>\n",
       "      <td>1544.000000</td>\n",
       "      <td>108.270000</td>\n",
       "      <td>144.200000</td>\n",
       "      <td>116914.0</td>\n",
       "      <td>241.80</td>\n",
       "      <td>142.833333</td>\n",
       "      <td>252.46</td>\n",
       "      <td>7.620769</td>\n",
       "      <td>7.294615</td>\n",
       "      <td>3.933333</td>\n",
       "      <td>172900.0</td>\n",
       "    </tr>\n",
       "    <tr>\n",
       "      <th rowspan=\"4\" valign=\"top\">2001</th>\n",
       "      <th>1</th>\n",
       "      <td>175.900000</td>\n",
       "      <td>1605.000000</td>\n",
       "      <td>109.750000</td>\n",
       "      <td>146.910000</td>\n",
       "      <td>117347.0</td>\n",
       "      <td>247.79</td>\n",
       "      <td>142.266667</td>\n",
       "      <td>255.77</td>\n",
       "      <td>7.006923</td>\n",
       "      <td>6.589231</td>\n",
       "      <td>3.766667</td>\n",
       "      <td>169800.0</td>\n",
       "    </tr>\n",
       "    <tr>\n",
       "      <th>2</th>\n",
       "      <td>177.133333</td>\n",
       "      <td>1630.000000</td>\n",
       "      <td>112.241000</td>\n",
       "      <td>149.316667</td>\n",
       "      <td>117786.0</td>\n",
       "      <td>251.94</td>\n",
       "      <td>143.666667</td>\n",
       "      <td>260.21</td>\n",
       "      <td>7.130000</td>\n",
       "      <td>6.660000</td>\n",
       "      <td>4.033333</td>\n",
       "      <td>179000.0</td>\n",
       "    </tr>\n",
       "    <tr>\n",
       "      <th>3</th>\n",
       "      <td>177.633333</td>\n",
       "      <td>1599.666667</td>\n",
       "      <td>114.893000</td>\n",
       "      <td>151.590000</td>\n",
       "      <td>118216.0</td>\n",
       "      <td>255.85</td>\n",
       "      <td>143.233333</td>\n",
       "      <td>265.05</td>\n",
       "      <td>6.963846</td>\n",
       "      <td>6.506923</td>\n",
       "      <td>4.333333</td>\n",
       "      <td>172500.0</td>\n",
       "    </tr>\n",
       "    <tr>\n",
       "      <th>4</th>\n",
       "      <td>177.500000</td>\n",
       "      <td>1570.000000</td>\n",
       "      <td>115.858667</td>\n",
       "      <td>153.943333</td>\n",
       "      <td>118635.0</td>\n",
       "      <td>259.02</td>\n",
       "      <td>142.033333</td>\n",
       "      <td>267.50</td>\n",
       "      <td>6.770769</td>\n",
       "      <td>6.253077</td>\n",
       "      <td>4.066667</td>\n",
       "      <td>171100.0</td>\n",
       "    </tr>\n",
       "    <tr>\n",
       "      <th rowspan=\"3\" valign=\"top\">2002</th>\n",
       "      <th>1</th>\n",
       "      <td>178.066667</td>\n",
       "      <td>1723.000000</td>\n",
       "      <td>117.094000</td>\n",
       "      <td>156.560000</td>\n",
       "      <td>119061.0</td>\n",
       "      <td>262.73</td>\n",
       "      <td>142.466667</td>\n",
       "      <td>272.12</td>\n",
       "      <td>6.971538</td>\n",
       "      <td>6.461538</td>\n",
       "      <td>4.100000</td>\n",
       "      <td>188700.0</td>\n",
       "    </tr>\n",
       "    <tr>\n",
       "      <th>2</th>\n",
       "      <td>179.466667</td>\n",
       "      <td>1691.000000</td>\n",
       "      <td>120.776333</td>\n",
       "      <td>159.420000</td>\n",
       "      <td>119483.0</td>\n",
       "      <td>267.21</td>\n",
       "      <td>143.866667</td>\n",
       "      <td>276.94</td>\n",
       "      <td>6.813077</td>\n",
       "      <td>6.286154</td>\n",
       "      <td>4.166667</td>\n",
       "      <td>187200.0</td>\n",
       "    </tr>\n",
       "    <tr>\n",
       "      <th>3</th>\n",
       "      <td>180.433333</td>\n",
       "      <td>1697.333333</td>\n",
       "      <td>124.636667</td>\n",
       "      <td>162.483333</td>\n",
       "      <td>119909.0</td>\n",
       "      <td>272.51</td>\n",
       "      <td>145.066667</td>\n",
       "      <td>280.51</td>\n",
       "      <td>6.289231</td>\n",
       "      <td>5.712308</td>\n",
       "      <td>4.033333</td>\n",
       "      <td>178100.0</td>\n",
       "    </tr>\n",
       "  </tbody>\n",
       "</table>\n",
       "</div>"
      ],
      "text/plain": [
       "          CPIAUCSL        HOUST  CSUSHPINSA  HPIPONM226S  ETOTALUSQ176N  \\\n",
       "2000 2  171.433333  1586.666667  103.699000   139.566667       116047.0   \n",
       "     3  173.000000  1503.666667  106.459333   141.780000       116482.0   \n",
       "     4  174.233333  1544.000000  108.270000   144.200000       116914.0   \n",
       "2001 1  175.900000  1605.000000  109.750000   146.910000       117347.0   \n",
       "     2  177.133333  1630.000000  112.241000   149.316667       117786.0   \n",
       "     3  177.633333  1599.666667  114.893000   151.590000       118216.0   \n",
       "     4  177.500000  1570.000000  115.858667   153.943333       118635.0   \n",
       "2002 1  178.066667  1723.000000  117.094000   156.560000       119061.0   \n",
       "     2  179.466667  1691.000000  120.776333   159.420000       119483.0   \n",
       "     3  180.433333  1697.333333  124.636667   162.483333       119909.0   \n",
       "\n",
       "        USSTHPI  WPUSI012011  ILSTHPI  MORTGAGE30US  MORTGAGE15US    MSACSR  \\\n",
       "2000 2   233.89   145.166667   245.58      8.316154      7.991538  4.533333   \n",
       "     3   238.16   143.833333   249.63      8.020000      7.733077  4.166667   \n",
       "     4   241.80   142.833333   252.46      7.620769      7.294615  3.933333   \n",
       "2001 1   247.79   142.266667   255.77      7.006923      6.589231  3.766667   \n",
       "     2   251.94   143.666667   260.21      7.130000      6.660000  4.033333   \n",
       "     3   255.85   143.233333   265.05      6.963846      6.506923  4.333333   \n",
       "     4   259.02   142.033333   267.50      6.770769      6.253077  4.066667   \n",
       "2002 1   262.73   142.466667   272.12      6.971538      6.461538  4.100000   \n",
       "     2   267.21   143.866667   276.94      6.813077      6.286154  4.166667   \n",
       "     3   272.51   145.066667   280.51      6.289231      5.712308  4.033333   \n",
       "\n",
       "           MSPUS  \n",
       "2000 2  163200.0  \n",
       "     3  168800.0  \n",
       "     4  172900.0  \n",
       "2001 1  169800.0  \n",
       "     2  179000.0  \n",
       "     3  172500.0  \n",
       "     4  171100.0  \n",
       "2002 1  188700.0  \n",
       "     2  187200.0  \n",
       "     3  178100.0  "
      ]
     },
     "metadata": {},
     "output_type": "display_data"
    },
    {
     "data": {
      "text/html": [
       "<div>\n",
       "<style scoped>\n",
       "    .dataframe tbody tr th:only-of-type {\n",
       "        vertical-align: middle;\n",
       "    }\n",
       "\n",
       "    .dataframe tbody tr th {\n",
       "        vertical-align: top;\n",
       "    }\n",
       "\n",
       "    .dataframe thead th {\n",
       "        text-align: right;\n",
       "    }\n",
       "</style>\n",
       "<table border=\"1\" class=\"dataframe\">\n",
       "  <thead>\n",
       "    <tr style=\"text-align: right;\">\n",
       "      <th></th>\n",
       "      <th></th>\n",
       "      <th>CPIAUCSL</th>\n",
       "      <th>HOUST</th>\n",
       "      <th>CSUSHPINSA</th>\n",
       "      <th>HPIPONM226S</th>\n",
       "      <th>ETOTALUSQ176N</th>\n",
       "      <th>USSTHPI</th>\n",
       "      <th>WPUSI012011</th>\n",
       "      <th>ILSTHPI</th>\n",
       "      <th>MORTGAGE30US</th>\n",
       "      <th>MORTGAGE15US</th>\n",
       "      <th>MSACSR</th>\n",
       "      <th>MSPUS</th>\n",
       "    </tr>\n",
       "  </thead>\n",
       "  <tbody>\n",
       "    <tr>\n",
       "      <th rowspan=\"3\" valign=\"top\">2021</th>\n",
       "      <th>2</th>\n",
       "      <td>268.622667</td>\n",
       "      <td>1581.666667</td>\n",
       "      <td>255.498000</td>\n",
       "      <td>333.000000</td>\n",
       "      <td>141927.0</td>\n",
       "      <td>510.74</td>\n",
       "      <td>304.466667</td>\n",
       "      <td>385.96</td>\n",
       "      <td>3.003846</td>\n",
       "      <td>2.309231</td>\n",
       "      <td>5.366667</td>\n",
       "      <td>382600.0</td>\n",
       "    </tr>\n",
       "    <tr>\n",
       "      <th>3</th>\n",
       "      <td>272.890000</td>\n",
       "      <td>1576.333333</td>\n",
       "      <td>268.593000</td>\n",
       "      <td>348.133333</td>\n",
       "      <td>142288.0</td>\n",
       "      <td>539.20</td>\n",
       "      <td>314.587000</td>\n",
       "      <td>399.44</td>\n",
       "      <td>2.872143</td>\n",
       "      <td>2.171429</td>\n",
       "      <td>6.066667</td>\n",
       "      <td>411200.0</td>\n",
       "    </tr>\n",
       "    <tr>\n",
       "      <th>4</th>\n",
       "      <td>278.680333</td>\n",
       "      <td>1690.333333</td>\n",
       "      <td>276.106667</td>\n",
       "      <td>361.763333</td>\n",
       "      <td>142697.0</td>\n",
       "      <td>557.79</td>\n",
       "      <td>328.697333</td>\n",
       "      <td>408.73</td>\n",
       "      <td>3.079231</td>\n",
       "      <td>2.338462</td>\n",
       "      <td>6.133333</td>\n",
       "      <td>423600.0</td>\n",
       "    </tr>\n",
       "    <tr>\n",
       "      <th rowspan=\"4\" valign=\"top\">2022</th>\n",
       "      <th>1</th>\n",
       "      <td>284.826000</td>\n",
       "      <td>1717.666667</td>\n",
       "      <td>288.086000</td>\n",
       "      <td>377.643333</td>\n",
       "      <td>143105.0</td>\n",
       "      <td>578.36</td>\n",
       "      <td>345.059000</td>\n",
       "      <td>419.56</td>\n",
       "      <td>3.822308</td>\n",
       "      <td>3.044615</td>\n",
       "      <td>6.333333</td>\n",
       "      <td>433100.0</td>\n",
       "    </tr>\n",
       "    <tr>\n",
       "      <th>2</th>\n",
       "      <td>291.706333</td>\n",
       "      <td>1635.666667</td>\n",
       "      <td>305.479000</td>\n",
       "      <td>390.660000</td>\n",
       "      <td>143514.0</td>\n",
       "      <td>617.03</td>\n",
       "      <td>348.867000</td>\n",
       "      <td>445.57</td>\n",
       "      <td>5.266154</td>\n",
       "      <td>4.450769</td>\n",
       "      <td>8.766667</td>\n",
       "      <td>449300.0</td>\n",
       "    </tr>\n",
       "    <tr>\n",
       "      <th>3</th>\n",
       "      <td>295.509000</td>\n",
       "      <td>1446.333333</td>\n",
       "      <td>303.747333</td>\n",
       "      <td>390.126667</td>\n",
       "      <td>143923.0</td>\n",
       "      <td>627.42</td>\n",
       "      <td>342.002333</td>\n",
       "      <td>450.94</td>\n",
       "      <td>5.623077</td>\n",
       "      <td>4.880769</td>\n",
       "      <td>9.500000</td>\n",
       "      <td>468000.0</td>\n",
       "    </tr>\n",
       "    <tr>\n",
       "      <th>4</th>\n",
       "      <td>298.441000</td>\n",
       "      <td>1405.333333</td>\n",
       "      <td>296.664000</td>\n",
       "      <td>391.553333</td>\n",
       "      <td>144332.0</td>\n",
       "      <td>622.78</td>\n",
       "      <td>330.204667</td>\n",
       "      <td>446.16</td>\n",
       "      <td>6.664615</td>\n",
       "      <td>5.959231</td>\n",
       "      <td>9.200000</td>\n",
       "      <td>479500.0</td>\n",
       "    </tr>\n",
       "    <tr>\n",
       "      <th rowspan=\"3\" valign=\"top\">2023</th>\n",
       "      <th>1</th>\n",
       "      <td>301.203000</td>\n",
       "      <td>1385.333333</td>\n",
       "      <td>294.520000</td>\n",
       "      <td>394.996667</td>\n",
       "      <td>144740.0</td>\n",
       "      <td>625.78</td>\n",
       "      <td>329.866333</td>\n",
       "      <td>449.78</td>\n",
       "      <td>6.372308</td>\n",
       "      <td>5.564615</td>\n",
       "      <td>8.200000</td>\n",
       "      <td>429000.0</td>\n",
       "    </tr>\n",
       "    <tr>\n",
       "      <th>2</th>\n",
       "      <td>303.466667</td>\n",
       "      <td>1449.666667</td>\n",
       "      <td>305.039667</td>\n",
       "      <td>403.173333</td>\n",
       "      <td>145149.0</td>\n",
       "      <td>645.38</td>\n",
       "      <td>336.058333</td>\n",
       "      <td>468.27</td>\n",
       "      <td>6.510769</td>\n",
       "      <td>5.870769</td>\n",
       "      <td>7.433333</td>\n",
       "      <td>418500.0</td>\n",
       "    </tr>\n",
       "    <tr>\n",
       "      <th>3</th>\n",
       "      <td>306.034333</td>\n",
       "      <td>1370.666667</td>\n",
       "      <td>311.367333</td>\n",
       "      <td>412.006667</td>\n",
       "      <td>145558.0</td>\n",
       "      <td>657.32</td>\n",
       "      <td>333.466000</td>\n",
       "      <td>479.38</td>\n",
       "      <td>7.040000</td>\n",
       "      <td>6.396154</td>\n",
       "      <td>7.500000</td>\n",
       "      <td>435400.0</td>\n",
       "    </tr>\n",
       "  </tbody>\n",
       "</table>\n",
       "</div>"
      ],
      "text/plain": [
       "          CPIAUCSL        HOUST  CSUSHPINSA  HPIPONM226S  ETOTALUSQ176N  \\\n",
       "2021 2  268.622667  1581.666667  255.498000   333.000000       141927.0   \n",
       "     3  272.890000  1576.333333  268.593000   348.133333       142288.0   \n",
       "     4  278.680333  1690.333333  276.106667   361.763333       142697.0   \n",
       "2022 1  284.826000  1717.666667  288.086000   377.643333       143105.0   \n",
       "     2  291.706333  1635.666667  305.479000   390.660000       143514.0   \n",
       "     3  295.509000  1446.333333  303.747333   390.126667       143923.0   \n",
       "     4  298.441000  1405.333333  296.664000   391.553333       144332.0   \n",
       "2023 1  301.203000  1385.333333  294.520000   394.996667       144740.0   \n",
       "     2  303.466667  1449.666667  305.039667   403.173333       145149.0   \n",
       "     3  306.034333  1370.666667  311.367333   412.006667       145558.0   \n",
       "\n",
       "        USSTHPI  WPUSI012011  ILSTHPI  MORTGAGE30US  MORTGAGE15US    MSACSR  \\\n",
       "2021 2   510.74   304.466667   385.96      3.003846      2.309231  5.366667   \n",
       "     3   539.20   314.587000   399.44      2.872143      2.171429  6.066667   \n",
       "     4   557.79   328.697333   408.73      3.079231      2.338462  6.133333   \n",
       "2022 1   578.36   345.059000   419.56      3.822308      3.044615  6.333333   \n",
       "     2   617.03   348.867000   445.57      5.266154      4.450769  8.766667   \n",
       "     3   627.42   342.002333   450.94      5.623077      4.880769  9.500000   \n",
       "     4   622.78   330.204667   446.16      6.664615      5.959231  9.200000   \n",
       "2023 1   625.78   329.866333   449.78      6.372308      5.564615  8.200000   \n",
       "     2   645.38   336.058333   468.27      6.510769      5.870769  7.433333   \n",
       "     3   657.32   333.466000   479.38      7.040000      6.396154  7.500000   \n",
       "\n",
       "           MSPUS  \n",
       "2021 2  382600.0  \n",
       "     3  411200.0  \n",
       "     4  423600.0  \n",
       "2022 1  433100.0  \n",
       "     2  449300.0  \n",
       "     3  468000.0  \n",
       "     4  479500.0  \n",
       "2023 1  429000.0  \n",
       "     2  418500.0  \n",
       "     3  435400.0  "
      ]
     },
     "metadata": {},
     "output_type": "display_data"
    }
   ],
   "source": [
    "fred_timeseries_mapping = {\n",
    "    'CPIAUCSL': 'Consumer Price Index for All Urban Consumers: All Items in U.S. City Average',\n",
    "    'HOUST': 'New Privately-Owned Housing Units Started: Total Units',\n",
    "    'CSUSHPINSA': 'S&P CoreLogic Case-Shiller U.S. National Home Price Index',\n",
    "    'HPIPONM226S': 'Purchase Only House Price Index for the United States',\n",
    "    # 'WSCNDW01USQ470S': 'Work Started: Construction: Dwellings and Residential Buildings: Total for United States',\n",
    "    'ETOTALUSQ176N': 'Housing Inventory Estimate: Total Housing Units in the United States',\n",
    "    'USSTHPI': 'All-Transactions House Price Index for the United States',\n",
    "    'WPUSI012011': 'Producer Price Index by Commodity: Special Indexes: Construction Materials',\n",
    "    'ILSTHPI': 'All-Transactions House Price Index for Illinois',\n",
    "    'MORTGAGE30US': '30-Year Fixed Rate Mortgage Average in the United States',\n",
    "    'MORTGAGE15US': '15-Year Fixed Rate Mortgage Average in the United States',\n",
    "    'MSACSR': 'Monthly Supply of New Houses in the United States',\n",
    "    'MSPUS': 'Median Sales Price of Houses Sold for the United States'\n",
    "}\n",
    "\n",
    "start = \"2000-01-01\"\n",
    "#end\n",
    "\n",
    "dfs = []\n",
    "\n",
    "for s in list(fred_timeseries_mapping.keys()):\n",
    "    data = fred.get_series(s, observation_start=start)\n",
    "    df = pd.DataFrame(data)\n",
    "    # get max or min to remove outliers\n",
    "\n",
    "    df_grouped = df.groupby(by=[df.index.year, df.index.quarter]).mean()\n",
    "    # display(df.isnull().any())\n",
    "    dfs.append(df_grouped)\n",
    "    \n",
    "housing_data_df = pd.concat(dfs, axis=1)\n",
    "housing_data_df.columns = list(fred_timeseries_mapping.keys())\n",
    "housing_data_df.dropna(inplace=True)\n",
    "\n",
    "display(housing_data_df.head(10))\n",
    "display(housing_data_df.tail(10))"
   ]
  },
  {
   "cell_type": "code",
   "execution_count": 4,
   "id": "f6ccca04-2306-4116-b83b-bdb36bcd936e",
   "metadata": {
    "tags": []
   },
   "outputs": [
    {
     "data": {
      "text/plain": [
       "<Axes: >"
      ]
     },
     "execution_count": 4,
     "metadata": {},
     "output_type": "execute_result"
    },
    {
     "data": {
      "image/png": "[encoded data removed]",
      "text/plain": [
       "<Figure size 640x480 with 1 Axes>"
      ]
     },
     "metadata": {},
     "output_type": "display_data"
    }
   ],
   "source": [
    "housing_data_df[['MSPUS']].plot()"
   ]
  },
  {
   "cell_type": "markdown",
   "id": "b5cd0ee1-31e9-401a-a8be-aca2f555c1c9",
   "metadata": {},
   "source": [
    "# Correlation Analysis\n",
    "\n",
    "## Objective\n",
    "\n",
    "The initial phase of this analysis aimed to investigate the predictive potential of using the feature MSACSR ('Monthly Supply of New Houses in the United States') to forecast MSPUS ('Median Sales Price of Houses Sold for the United States'). To enhance this exploration, additional timeseries from FRED were incorporated, considering potential correlations with the target variable, MSPUS.\n",
    "\n",
    "## Methodology\n",
    "\n",
    "1. **Feature Selection:**\n",
    "   - The primary focus was on MSACSR as a potential predictor for MSPUS. Other timeseries from FRED were introduced to expand the set of features and capture potential correlations.\n",
    "\n",
    "2. **Correlation Calculation:**\n",
    "   - The analysis proceeded to calculate the correlation between the selected features and the target variable (MSPUS). The correlation values were then sorted from high to low.\n",
    "\n",
    "3. **Visualization:**\n",
    "   - To provide a clear representation of the correlation results, the sorted correlation values were visualized. This step aids in understanding the strength and direction of relationships between features and the target variable.\n",
    "\n",
    "## Next Steps\n",
    "\n",
    "The insights gained from this correlation analysis lay the groundwork for further exploration. The identified relationships between features and the target variable will inform subsequent steps in feature engineering, model selection, and the overall predictive modeling process.\n"
   ]
  },
  {
   "cell_type": "code",
   "execution_count": 5,
   "id": "ce64759c-dabe-4523-8ec3-1861295710cc",
   "metadata": {
    "tags": []
   },
   "outputs": [
    {
     "name": "stdout",
     "output_type": "stream",
     "text": [
      "WPUSI012011      0.959855\n",
      "HPIPONM226S      0.956565\n",
      "CSUSHPINSA       0.955770\n",
      "CPIAUCSL         0.949600\n",
      "USSTHPI          0.946107\n",
      "ETOTALUSQ176N    0.904010\n",
      "ILSTHPI          0.805625\n",
      "MORTGAGE15US     0.466533\n",
      "MORTGAGE30US     0.453050\n",
      "MSACSR           0.217826\n",
      "HOUST            0.030514\n",
      "dtype: float64\n"
     ]
    }
   ],
   "source": [
    "# Look at correlation between target and features\n",
    "target_column = 'MSPUS'\n",
    "\n",
    "# Calculate correlations for each series with the target\n",
    "correlations = housing_data_df.copy() \\\n",
    "    .drop(columns=target_column) \\\n",
    "    .corrwith(housing_data_df[target_column]) \\\n",
    "    .abs() \\\n",
    "    .sort_values(ascending=False)\n",
    "print(correlations)"
   ]
  },
  {
   "cell_type": "markdown",
   "id": "5b433caa-86a2-4326-ac49-8cddc548018b",
   "metadata": {},
   "source": [
    "## Explain this"
   ]
  },
  {
   "cell_type": "code",
   "execution_count": 6,
   "id": "ea64f56b-3fdd-4cc7-b437-0dedce8affb4",
   "metadata": {
    "tags": []
   },
   "outputs": [
    {
     "data": {
      "image/png": "[encoded data removed]",
      "text/plain": [
       "<Figure size 1200x800 with 2 Axes>"
      ]
     },
     "metadata": {},
     "output_type": "display_data"
    }
   ],
   "source": [
    "# Visualize correlation\n",
    "cols = housing_data_df.columns.drop('MSPUS')\n",
    "\n",
    "correlation_matrix = housing_data_df[cols].corrwith(housing_data_df['MSPUS']) \\\n",
    "    .abs() \\\n",
    "    .sort_values(ascending=False)\n",
    "\n",
    "# Plot the heatmap\n",
    "plt.figure(figsize=(12, 8))\n",
    "sns.heatmap(correlation_matrix.to_frame())\n",
    "plt.title(f\"Correlation Heatmap - {'MSPUS'} against Other Features\")\n",
    "plt.show()"
   ]
  },
  {
   "cell_type": "markdown",
   "id": "9fed6a52-d6f6-446d-85c0-fb5086c80c39",
   "metadata": {},
   "source": [
    "## Determine if candidate for Linear Regression\n",
    "\n",
    "#### Find best fit line"
   ]
  },
  {
   "cell_type": "code",
   "execution_count": 7,
   "id": "a5e7b09c-be9f-4c9c-a386-3545bf87c353",
   "metadata": {
    "tags": []
   },
   "outputs": [
    {
     "data": {
      "image/png": "[encoded data removed]",
      "text/plain": [
       "<Figure size 640x480 with 1 Axes>"
      ]
     },
     "metadata": {},
     "output_type": "display_data"
    },
    {
     "name": "stdout",
     "output_type": "stream",
     "text": [
      "0.21782562588367504 Weak candidate for Linear Regression\n"
     ]
    }
   ],
   "source": [
    "#Linear Regression\n",
    "x_lr = housing_data_df['MSACSR']\n",
    "y_lr = housing_data_df['MSPUS']\n",
    "\n",
    "slope, intercept, r, p, std_err = stats.linregress(x_lr, y_lr)\n",
    "\n",
    "plt.scatter(x_lr, y_lr)\n",
    "plt.plot(x_lr, slope * x_lr + intercept)\n",
    "plt.show()\n",
    "\n",
    "if r > .8 or r < -.8:\n",
    "    print(f'{r}: Good candidate for Linear Regression')\n",
    "else:\n",
    "    print(f'{r} Weak candidate for Linear Regression')"
   ]
  },
  {
   "cell_type": "markdown",
   "id": "f0d34084-9744-492d-bf92-ddcd32dabe1e",
   "metadata": {},
   "source": [
    "## Determine if candidate for Polynomial Regression\n",
    "\n",
    "#### like linear regression, it seeks to find a 'best fit' line but not a linear line"
   ]
  },
  {
   "cell_type": "code",
   "execution_count": 8,
   "id": "513948ad-4e7d-441b-a770-a2ac25255c7c",
   "metadata": {
    "tags": []
   },
   "outputs": [
    {
     "data": {
      "image/png": "[encoded data removed]",
      "text/plain": [
       "<Figure size 640x480 with 1 Axes>"
      ]
     },
     "metadata": {},
     "output_type": "display_data"
    },
    {
     "name": "stdout",
     "output_type": "stream",
     "text": [
      "0.20093110642414314 Weak candidate for Polynomial Regression\n"
     ]
    }
   ],
   "source": [
    "#Polynomial Regression\n",
    "x_pr = housing_data_df['MSACSR']\n",
    "y_pr = housing_data_df['MSPUS']\n",
    "\n",
    "mymodel = np.poly1d(np.polyfit(x_pr, y_pr, 2))\n",
    "myline = np.linspace(min(x_pr), max(x_pr), 100)\n",
    "\n",
    "plt.scatter(x_pr, y_pr)\n",
    "plt.plot(myline, mymodel(myline))\n",
    "plt.show()\n",
    "\n",
    "r2s = r2_score(y_pr, mymodel(x_pr))\n",
    "\n",
    "if r2s > 0.9:\n",
    "    print(f'{r2s}: Good candidate for Polynomial Regression')\n",
    "else:\n",
    "    print(f'{r2s} Weak candidate for Polynomial Regression')"
   ]
  },
  {
   "cell_type": "markdown",
   "id": "47c83058-9244-4f49-ac39-17adb740ea93",
   "metadata": {},
   "source": [
    "### Try Multiple Regression (i.e. linear regression with multiple variables)"
   ]
  },
  {
   "cell_type": "code",
   "execution_count": 9,
   "id": "9503b03f-1790-42c5-882c-3dd5a7594098",
   "metadata": {
    "tags": []
   },
   "outputs": [
    {
     "data": {
      "text/html": [
       "<div>\n",
       "<style scoped>\n",
       "    .dataframe tbody tr th:only-of-type {\n",
       "        vertical-align: middle;\n",
       "    }\n",
       "\n",
       "    .dataframe tbody tr th {\n",
       "        vertical-align: top;\n",
       "    }\n",
       "\n",
       "    .dataframe thead th {\n",
       "        text-align: right;\n",
       "    }\n",
       "</style>\n",
       "<table border=\"1\" class=\"dataframe\">\n",
       "  <thead>\n",
       "    <tr style=\"text-align: right;\">\n",
       "      <th></th>\n",
       "      <th></th>\n",
       "      <th>CPIAUCSL</th>\n",
       "      <th>HOUST</th>\n",
       "      <th>CSUSHPINSA</th>\n",
       "      <th>HPIPONM226S</th>\n",
       "      <th>ETOTALUSQ176N</th>\n",
       "      <th>USSTHPI</th>\n",
       "      <th>WPUSI012011</th>\n",
       "      <th>ILSTHPI</th>\n",
       "      <th>MORTGAGE30US</th>\n",
       "      <th>MORTGAGE15US</th>\n",
       "      <th>MSACSR</th>\n",
       "    </tr>\n",
       "  </thead>\n",
       "  <tbody>\n",
       "    <tr>\n",
       "      <th rowspan=\"3\" valign=\"top\">2000</th>\n",
       "      <th>2</th>\n",
       "      <td>171.433333</td>\n",
       "      <td>1586.666667</td>\n",
       "      <td>103.699000</td>\n",
       "      <td>139.566667</td>\n",
       "      <td>116047.0</td>\n",
       "      <td>233.89</td>\n",
       "      <td>145.166667</td>\n",
       "      <td>245.58</td>\n",
       "      <td>8.316154</td>\n",
       "      <td>7.991538</td>\n",
       "      <td>4.533333</td>\n",
       "    </tr>\n",
       "    <tr>\n",
       "      <th>3</th>\n",
       "      <td>173.000000</td>\n",
       "      <td>1503.666667</td>\n",
       "      <td>106.459333</td>\n",
       "      <td>141.780000</td>\n",
       "      <td>116482.0</td>\n",
       "      <td>238.16</td>\n",
       "      <td>143.833333</td>\n",
       "      <td>249.63</td>\n",
       "      <td>8.020000</td>\n",
       "      <td>7.733077</td>\n",
       "      <td>4.166667</td>\n",
       "    </tr>\n",
       "    <tr>\n",
       "      <th>4</th>\n",
       "      <td>174.233333</td>\n",
       "      <td>1544.000000</td>\n",
       "      <td>108.270000</td>\n",
       "      <td>144.200000</td>\n",
       "      <td>116914.0</td>\n",
       "      <td>241.80</td>\n",
       "      <td>142.833333</td>\n",
       "      <td>252.46</td>\n",
       "      <td>7.620769</td>\n",
       "      <td>7.294615</td>\n",
       "      <td>3.933333</td>\n",
       "    </tr>\n",
       "    <tr>\n",
       "      <th rowspan=\"2\" valign=\"top\">2001</th>\n",
       "      <th>1</th>\n",
       "      <td>175.900000</td>\n",
       "      <td>1605.000000</td>\n",
       "      <td>109.750000</td>\n",
       "      <td>146.910000</td>\n",
       "      <td>117347.0</td>\n",
       "      <td>247.79</td>\n",
       "      <td>142.266667</td>\n",
       "      <td>255.77</td>\n",
       "      <td>7.006923</td>\n",
       "      <td>6.589231</td>\n",
       "      <td>3.766667</td>\n",
       "    </tr>\n",
       "    <tr>\n",
       "      <th>2</th>\n",
       "      <td>177.133333</td>\n",
       "      <td>1630.000000</td>\n",
       "      <td>112.241000</td>\n",
       "      <td>149.316667</td>\n",
       "      <td>117786.0</td>\n",
       "      <td>251.94</td>\n",
       "      <td>143.666667</td>\n",
       "      <td>260.21</td>\n",
       "      <td>7.130000</td>\n",
       "      <td>6.660000</td>\n",
       "      <td>4.033333</td>\n",
       "    </tr>\n",
       "  </tbody>\n",
       "</table>\n",
       "</div>"
      ],
      "text/plain": [
       "          CPIAUCSL        HOUST  CSUSHPINSA  HPIPONM226S  ETOTALUSQ176N  \\\n",
       "2000 2  171.433333  1586.666667  103.699000   139.566667       116047.0   \n",
       "     3  173.000000  1503.666667  106.459333   141.780000       116482.0   \n",
       "     4  174.233333  1544.000000  108.270000   144.200000       116914.0   \n",
       "2001 1  175.900000  1605.000000  109.750000   146.910000       117347.0   \n",
       "     2  177.133333  1630.000000  112.241000   149.316667       117786.0   \n",
       "\n",
       "        USSTHPI  WPUSI012011  ILSTHPI  MORTGAGE30US  MORTGAGE15US    MSACSR  \n",
       "2000 2   233.89   145.166667   245.58      8.316154      7.991538  4.533333  \n",
       "     3   238.16   143.833333   249.63      8.020000      7.733077  4.166667  \n",
       "     4   241.80   142.833333   252.46      7.620769      7.294615  3.933333  \n",
       "2001 1   247.79   142.266667   255.77      7.006923      6.589231  3.766667  \n",
       "     2   251.94   143.666667   260.21      7.130000      6.660000  4.033333  "
      ]
     },
     "execution_count": 9,
     "metadata": {},
     "output_type": "execute_result"
    }
   ],
   "source": [
    "# Create X df\n",
    "X = housing_data_df.copy().drop(columns='MSPUS')\n",
    "X.head()"
   ]
  },
  {
   "cell_type": "code",
   "execution_count": 10,
   "id": "1fcf0c88-4a9f-4612-ad8c-6b1b2dde47a5",
   "metadata": {},
   "outputs": [
    {
     "data": {
      "text/html": [
       "<div>\n",
       "<style scoped>\n",
       "    .dataframe tbody tr th:only-of-type {\n",
       "        vertical-align: middle;\n",
       "    }\n",
       "\n",
       "    .dataframe tbody tr th {\n",
       "        vertical-align: top;\n",
       "    }\n",
       "\n",
       "    .dataframe thead th {\n",
       "        text-align: right;\n",
       "    }\n",
       "</style>\n",
       "<table border=\"1\" class=\"dataframe\">\n",
       "  <thead>\n",
       "    <tr style=\"text-align: right;\">\n",
       "      <th></th>\n",
       "      <th></th>\n",
       "      <th>MSPUS</th>\n",
       "    </tr>\n",
       "  </thead>\n",
       "  <tbody>\n",
       "    <tr>\n",
       "      <th rowspan=\"3\" valign=\"top\">2000</th>\n",
       "      <th>2</th>\n",
       "      <td>163200.0</td>\n",
       "    </tr>\n",
       "    <tr>\n",
       "      <th>3</th>\n",
       "      <td>168800.0</td>\n",
       "    </tr>\n",
       "    <tr>\n",
       "      <th>4</th>\n",
       "      <td>172900.0</td>\n",
       "    </tr>\n",
       "    <tr>\n",
       "      <th rowspan=\"2\" valign=\"top\">2001</th>\n",
       "      <th>1</th>\n",
       "      <td>169800.0</td>\n",
       "    </tr>\n",
       "    <tr>\n",
       "      <th>2</th>\n",
       "      <td>179000.0</td>\n",
       "    </tr>\n",
       "  </tbody>\n",
       "</table>\n",
       "</div>"
      ],
      "text/plain": [
       "           MSPUS\n",
       "2000 2  163200.0\n",
       "     3  168800.0\n",
       "     4  172900.0\n",
       "2001 1  169800.0\n",
       "     2  179000.0"
      ]
     },
     "execution_count": 10,
     "metadata": {},
     "output_type": "execute_result"
    }
   ],
   "source": [
    "#Create y df\n",
    "y = housing_data_df[['MSPUS']]\n",
    "y.head()"
   ]
  },
  {
   "cell_type": "code",
   "execution_count": 11,
   "id": "eab5ce14-5939-45af-9a21-204389b2163e",
   "metadata": {
    "tags": []
   },
   "outputs": [
    {
     "data": {
      "text/plain": [
       "18"
      ]
     },
     "execution_count": 11,
     "metadata": {},
     "output_type": "execute_result"
    }
   ],
   "source": [
    "split = round(abs(X.index.min()[0] - X.index.max()[0]) * 0.8)\n",
    "split"
   ]
  },
  {
   "cell_type": "code",
   "execution_count": 12,
   "id": "8d7097f8-29c1-424c-af5b-f3f74ec3c30b",
   "metadata": {
    "tags": []
   },
   "outputs": [
    {
     "data": {
      "text/plain": [
       "2000"
      ]
     },
     "metadata": {},
     "output_type": "display_data"
    },
    {
     "data": {
      "text/plain": [
       "2018"
      ]
     },
     "metadata": {},
     "output_type": "display_data"
    }
   ],
   "source": [
    "# Slice data by date to split testing and training data\n",
    "\n",
    "#Start\n",
    "training_begin = X.index.min()[0]\n",
    "training_end = X.index.min()[0] + split\n",
    "\n",
    "display(training_begin)\n",
    "display(training_end)"
   ]
  },
  {
   "cell_type": "code",
   "execution_count": 13,
   "id": "7e9e688e-6323-4d4a-9d8e-fdb96a002824",
   "metadata": {
    "tags": []
   },
   "outputs": [
    {
     "data": {
      "text/html": [
       "<div>\n",
       "<style scoped>\n",
       "    .dataframe tbody tr th:only-of-type {\n",
       "        vertical-align: middle;\n",
       "    }\n",
       "\n",
       "    .dataframe tbody tr th {\n",
       "        vertical-align: top;\n",
       "    }\n",
       "\n",
       "    .dataframe thead th {\n",
       "        text-align: right;\n",
       "    }\n",
       "</style>\n",
       "<table border=\"1\" class=\"dataframe\">\n",
       "  <thead>\n",
       "    <tr style=\"text-align: right;\">\n",
       "      <th></th>\n",
       "      <th></th>\n",
       "      <th>CPIAUCSL</th>\n",
       "      <th>HOUST</th>\n",
       "      <th>CSUSHPINSA</th>\n",
       "      <th>HPIPONM226S</th>\n",
       "      <th>ETOTALUSQ176N</th>\n",
       "      <th>USSTHPI</th>\n",
       "      <th>WPUSI012011</th>\n",
       "      <th>ILSTHPI</th>\n",
       "      <th>MORTGAGE30US</th>\n",
       "      <th>MORTGAGE15US</th>\n",
       "      <th>MSACSR</th>\n",
       "    </tr>\n",
       "  </thead>\n",
       "  <tbody>\n",
       "    <tr>\n",
       "      <th>2017</th>\n",
       "      <th>4</th>\n",
       "      <td>247.238333</td>\n",
       "      <td>1235.666667</td>\n",
       "      <td>195.461667</td>\n",
       "      <td>248.006667</td>\n",
       "      <td>137637.0</td>\n",
       "      <td>403.58</td>\n",
       "      <td>223.966667</td>\n",
       "      <td>335.72</td>\n",
       "      <td>3.922308</td>\n",
       "      <td>3.290769</td>\n",
       "      <td>5.300000</td>\n",
       "    </tr>\n",
       "    <tr>\n",
       "      <th rowspan=\"4\" valign=\"top\">2018</th>\n",
       "      <th>1</th>\n",
       "      <td>249.321667</td>\n",
       "      <td>1298.000000</td>\n",
       "      <td>197.195000</td>\n",
       "      <td>252.636667</td>\n",
       "      <td>137920.0</td>\n",
       "      <td>409.26</td>\n",
       "      <td>228.600000</td>\n",
       "      <td>337.40</td>\n",
       "      <td>4.282308</td>\n",
       "      <td>3.740000</td>\n",
       "      <td>5.633333</td>\n",
       "    </tr>\n",
       "    <tr>\n",
       "      <th>2</th>\n",
       "      <td>250.679000</td>\n",
       "      <td>1275.000000</td>\n",
       "      <td>202.370333</td>\n",
       "      <td>255.630000</td>\n",
       "      <td>138203.0</td>\n",
       "      <td>416.79</td>\n",
       "      <td>236.133333</td>\n",
       "      <td>339.57</td>\n",
       "      <td>4.544615</td>\n",
       "      <td>4.014615</td>\n",
       "      <td>5.633333</td>\n",
       "    </tr>\n",
       "    <tr>\n",
       "      <th>3</th>\n",
       "      <td>251.686333</td>\n",
       "      <td>1248.666667</td>\n",
       "      <td>205.216667</td>\n",
       "      <td>258.863333</td>\n",
       "      <td>138488.0</td>\n",
       "      <td>421.88</td>\n",
       "      <td>239.666667</td>\n",
       "      <td>340.73</td>\n",
       "      <td>4.566923</td>\n",
       "      <td>4.033846</td>\n",
       "      <td>6.366667</td>\n",
       "    </tr>\n",
       "    <tr>\n",
       "      <th>4</th>\n",
       "      <td>252.711000</td>\n",
       "      <td>1165.666667</td>\n",
       "      <td>205.056667</td>\n",
       "      <td>261.856667</td>\n",
       "      <td>138778.0</td>\n",
       "      <td>423.32</td>\n",
       "      <td>238.600000</td>\n",
       "      <td>340.14</td>\n",
       "      <td>4.784615</td>\n",
       "      <td>4.212308</td>\n",
       "      <td>7.066667</td>\n",
       "    </tr>\n",
       "  </tbody>\n",
       "</table>\n",
       "</div>"
      ],
      "text/plain": [
       "          CPIAUCSL        HOUST  CSUSHPINSA  HPIPONM226S  ETOTALUSQ176N  \\\n",
       "2017 4  247.238333  1235.666667  195.461667   248.006667       137637.0   \n",
       "2018 1  249.321667  1298.000000  197.195000   252.636667       137920.0   \n",
       "     2  250.679000  1275.000000  202.370333   255.630000       138203.0   \n",
       "     3  251.686333  1248.666667  205.216667   258.863333       138488.0   \n",
       "     4  252.711000  1165.666667  205.056667   261.856667       138778.0   \n",
       "\n",
       "        USSTHPI  WPUSI012011  ILSTHPI  MORTGAGE30US  MORTGAGE15US    MSACSR  \n",
       "2017 4   403.58   223.966667   335.72      3.922308      3.290769  5.300000  \n",
       "2018 1   409.26   228.600000   337.40      4.282308      3.740000  5.633333  \n",
       "     2   416.79   236.133333   339.57      4.544615      4.014615  5.633333  \n",
       "     3   421.88   239.666667   340.73      4.566923      4.033846  6.366667  \n",
       "     4   423.32   238.600000   340.14      4.784615      4.212308  7.066667  "
      ]
     },
     "execution_count": 13,
     "metadata": {},
     "output_type": "execute_result"
    }
   ],
   "source": [
    "# Split the train data\n",
    "X_train = X.loc[training_begin:training_end]\n",
    "y_train = y.loc[training_begin:training_end]\n",
    "\n",
    "X_train.tail()"
   ]
  },
  {
   "cell_type": "code",
   "execution_count": 14,
   "id": "baf36ef3-b7ad-4df8-8077-89e584fec09f",
   "metadata": {
    "tags": []
   },
   "outputs": [
    {
     "data": {
      "text/plain": [
       "CPIAUCSL         False\n",
       "HOUST            False\n",
       "CSUSHPINSA       False\n",
       "HPIPONM226S      False\n",
       "ETOTALUSQ176N    False\n",
       "USSTHPI          False\n",
       "WPUSI012011      False\n",
       "ILSTHPI          False\n",
       "MORTGAGE30US     False\n",
       "MORTGAGE15US     False\n",
       "MSACSR           False\n",
       "dtype: bool"
      ]
     },
     "execution_count": 14,
     "metadata": {},
     "output_type": "execute_result"
    }
   ],
   "source": [
    "#Split the test data\n",
    "X_test = X.loc[training_end+1:]\n",
    "y_test = y.loc[training_end+1:]\n",
    "\n",
    "X_test.isna().any()"
   ]
  },
  {
   "cell_type": "code",
   "execution_count": 15,
   "id": "32f8caef-79cc-451a-b808-4cfe6b27ba74",
   "metadata": {
    "tags": []
   },
   "outputs": [],
   "source": [
    "# Scale features\n",
    "\n",
    "# Create a StandardScaler instance\n",
    "scaler = StandardScaler()\n",
    "\n",
    "# Apply the scaler model to fit the X-train data\n",
    "X_scaler = scaler.fit(X_train)\n",
    "\n",
    "# Transform the X_train and X_test DataFrames using the X_scaler\n",
    "X_train_scaled = X_scaler.transform(X_train)\n",
    "X_test_scaled = X_scaler.transform(X_test)"
   ]
  },
  {
   "cell_type": "code",
   "execution_count": 16,
   "id": "0f5ffeb3-9ba9-4a3e-b7be-28a0eed1b70e",
   "metadata": {
    "tags": []
   },
   "outputs": [
    {
     "data": {
      "text/html": [
       "<style>#sk-container-id-1 {color: black;background-color: white;}#sk-container-id-1 pre{padding: 0;}#sk-container-id-1 div.sk-toggleable {background-color: white;}#sk-container-id-1 label.sk-toggleable__label {cursor: pointer;display: block;width: 100%;margin-bottom: 0;padding: 0.3em;box-sizing: border-box;text-align: center;}#sk-container-id-1 label.sk-toggleable__label-arrow:before {content: \"▸\";float: left;margin-right: 0.25em;color: #696969;}#sk-container-id-1 label.sk-toggleable__label-arrow:hover:before {color: black;}#sk-container-id-1 div.sk-estimator:hover label.sk-toggleable__label-arrow:before {color: black;}#sk-container-id-1 div.sk-toggleable__content {max-height: 0;max-width: 0;overflow: hidden;text-align: left;background-color: #f0f8ff;}#sk-container-id-1 div.sk-toggleable__content pre {margin: 0.2em;color: black;border-radius: 0.25em;background-color: #f0f8ff;}#sk-container-id-1 input.sk-toggleable__control:checked~div.sk-toggleable__content {max-height: 200px;max-width: 100%;overflow: auto;}#sk-container-id-1 input.sk-toggleable__control:checked~label.sk-toggleable__label-arrow:before {content: \"▾\";}#sk-container-id-1 div.sk-estimator input.sk-toggleable__control:checked~label.sk-toggleable__label {background-color: #d4ebff;}#sk-container-id-1 div.sk-label input.sk-toggleable__control:checked~label.sk-toggleable__label {background-color: #d4ebff;}#sk-container-id-1 input.sk-hidden--visually {border: 0;clip: rect(1px 1px 1px 1px);clip: rect(1px, 1px, 1px, 1px);height: 1px;margin: -1px;overflow: hidden;padding: 0;position: absolute;width: 1px;}#sk-container-id-1 div.sk-estimator {font-family: monospace;background-color: #f0f8ff;border: 1px dotted black;border-radius: 0.25em;box-sizing: border-box;margin-bottom: 0.5em;}#sk-container-id-1 div.sk-estimator:hover {background-color: #d4ebff;}#sk-container-id-1 div.sk-parallel-item::after {content: \"\";width: 100%;border-bottom: 1px solid gray;flex-grow: 1;}#sk-container-id-1 div.sk-label:hover label.sk-toggleable__label {background-color: #d4ebff;}#sk-container-id-1 div.sk-serial::before {content: \"\";position: absolute;border-left: 1px solid gray;box-sizing: border-box;top: 0;bottom: 0;left: 50%;z-index: 0;}#sk-container-id-1 div.sk-serial {display: flex;flex-direction: column;align-items: center;background-color: white;padding-right: 0.2em;padding-left: 0.2em;position: relative;}#sk-container-id-1 div.sk-item {position: relative;z-index: 1;}#sk-container-id-1 div.sk-parallel {display: flex;align-items: stretch;justify-content: center;background-color: white;position: relative;}#sk-container-id-1 div.sk-item::before, #sk-container-id-1 div.sk-parallel-item::before {content: \"\";position: absolute;border-left: 1px solid gray;box-sizing: border-box;top: 0;bottom: 0;left: 50%;z-index: -1;}#sk-container-id-1 div.sk-parallel-item {display: flex;flex-direction: column;z-index: 1;position: relative;background-color: white;}#sk-container-id-1 div.sk-parallel-item:first-child::after {align-self: flex-end;width: 50%;}#sk-container-id-1 div.sk-parallel-item:last-child::after {align-self: flex-start;width: 50%;}#sk-container-id-1 div.sk-parallel-item:only-child::after {width: 0;}#sk-container-id-1 div.sk-dashed-wrapped {border: 1px dashed gray;margin: 0 0.4em 0.5em 0.4em;box-sizing: border-box;padding-bottom: 0.4em;background-color: white;}#sk-container-id-1 div.sk-label label {font-family: monospace;font-weight: bold;display: inline-block;line-height: 1.2em;}#sk-container-id-1 div.sk-label-container {text-align: center;}#sk-container-id-1 div.sk-container {/* jupyter's `normalize.less` sets `[hidden] { display: none; }` but bootstrap.min.css set `[hidden] { display: none !important; }` so we also need the `!important` here to be able to override the default hidden behavior on the sphinx rendered scikit-learn.org. See: https://github.com/scikit-learn/scikit-learn/issues/21755 */display: inline-block !important;position: relative;}#sk-container-id-1 div.sk-text-repr-fallback {display: none;}</style><div id=\"sk-container-id-1\" class=\"sk-top-container\"><div class=\"sk-text-repr-fallback\"><pre>LinearRegression()</pre><b>In a Jupyter environment, please rerun this cell to show the HTML representation or trust the notebook. <br />On GitHub, the HTML representation is unable to render, please try loading this page with nbviewer.org.</b></div><div class=\"sk-container\" hidden><div class=\"sk-item\"><div class=\"sk-estimator sk-toggleable\"><input class=\"sk-toggleable__control sk-hidden--visually\" id=\"sk-estimator-id-1\" type=\"checkbox\" checked><label for=\"sk-estimator-id-1\" class=\"sk-toggleable__label sk-toggleable__label-arrow\">LinearRegression</label><div class=\"sk-toggleable__content\"><pre>LinearRegression()</pre></div></div></div></div></div>"
      ],
      "text/plain": [
       "LinearRegression()"
      ]
     },
     "execution_count": 16,
     "metadata": {},
     "output_type": "execute_result"
    }
   ],
   "source": [
    "\"\"\" \n",
    "Linear Regression finds the 'best fit' line representing the relationship between dependent variable (y)\n",
    "and independent features\n",
    "\"\"\"\n",
    "from sklearn.linear_model import LinearRegression \n",
    "model = LinearRegression() \n",
    "model.fit(X_train_scaled, y_train)"
   ]
  },
  {
   "cell_type": "code",
   "execution_count": 17,
   "id": "519dd57f-ec88-446f-b631-b028ca51a093",
   "metadata": {
    "tags": []
   },
   "outputs": [
    {
     "name": "stdout",
     "output_type": "stream",
     "text": [
      "Model's slope: [[ 42759.08091435   9274.91954663  27859.70094362  30756.89883235\n",
      "    8036.57513398 -39452.90801128 -14513.13516268  -7969.69006994\n",
      "  -37900.60411618  38703.80724143   3136.83942133]]\n"
     ]
    }
   ],
   "source": [
    "print(f\"Model's slope: {model.coef_}\") "
   ]
  },
  {
   "cell_type": "code",
   "execution_count": 18,
   "id": "4824784b-b55c-42ed-971b-9ae8c7aec5f9",
   "metadata": {
    "tags": []
   },
   "outputs": [],
   "source": [
    "predicted_y_values = model.predict(X_test_scaled) "
   ]
  },
  {
   "cell_type": "code",
   "execution_count": 19,
   "id": "cb75f85e-0737-4bd8-9e36-614a1acd5296",
   "metadata": {
    "tags": []
   },
   "outputs": [
    {
     "data": {
      "text/html": [
       "<div>\n",
       "<style scoped>\n",
       "    .dataframe tbody tr th:only-of-type {\n",
       "        vertical-align: middle;\n",
       "    }\n",
       "\n",
       "    .dataframe tbody tr th {\n",
       "        vertical-align: top;\n",
       "    }\n",
       "\n",
       "    .dataframe thead th {\n",
       "        text-align: right;\n",
       "    }\n",
       "</style>\n",
       "<table border=\"1\" class=\"dataframe\">\n",
       "  <thead>\n",
       "    <tr style=\"text-align: right;\">\n",
       "      <th></th>\n",
       "      <th></th>\n",
       "      <th>CPIAUCSL</th>\n",
       "      <th>HOUST</th>\n",
       "      <th>CSUSHPINSA</th>\n",
       "      <th>HPIPONM226S</th>\n",
       "      <th>ETOTALUSQ176N</th>\n",
       "      <th>USSTHPI</th>\n",
       "      <th>WPUSI012011</th>\n",
       "      <th>ILSTHPI</th>\n",
       "      <th>MORTGAGE30US</th>\n",
       "      <th>MORTGAGE15US</th>\n",
       "      <th>MSACSR</th>\n",
       "      <th>MSPUS</th>\n",
       "      <th>MSPUS_lr_predicted</th>\n",
       "    </tr>\n",
       "  </thead>\n",
       "  <tbody>\n",
       "    <tr>\n",
       "      <th rowspan=\"4\" valign=\"top\">2019</th>\n",
       "      <th>1</th>\n",
       "      <td>253.385667</td>\n",
       "      <td>1185.000000</td>\n",
       "      <td>204.805333</td>\n",
       "      <td>265.070000</td>\n",
       "      <td>139069.0</td>\n",
       "      <td>428.05</td>\n",
       "      <td>238.233333</td>\n",
       "      <td>343.17</td>\n",
       "      <td>4.373846</td>\n",
       "      <td>3.815385</td>\n",
       "      <td>6.366667</td>\n",
       "      <td>313000.0</td>\n",
       "      <td>338206.066520</td>\n",
       "    </tr>\n",
       "    <tr>\n",
       "      <th>2</th>\n",
       "      <td>255.247333</td>\n",
       "      <td>1267.333333</td>\n",
       "      <td>209.215000</td>\n",
       "      <td>268.286667</td>\n",
       "      <td>139360.0</td>\n",
       "      <td>435.20</td>\n",
       "      <td>236.933333</td>\n",
       "      <td>348.17</td>\n",
       "      <td>4.010769</td>\n",
       "      <td>3.464615</td>\n",
       "      <td>5.900000</td>\n",
       "      <td>322500.0</td>\n",
       "      <td>345529.091282</td>\n",
       "    </tr>\n",
       "    <tr>\n",
       "      <th>3</th>\n",
       "      <td>256.089333</td>\n",
       "      <td>1304.000000</td>\n",
       "      <td>211.642667</td>\n",
       "      <td>271.656667</td>\n",
       "      <td>139655.0</td>\n",
       "      <td>440.74</td>\n",
       "      <td>234.800000</td>\n",
       "      <td>351.52</td>\n",
       "      <td>3.658462</td>\n",
       "      <td>3.129231</td>\n",
       "      <td>5.566667</td>\n",
       "      <td>318400.0</td>\n",
       "      <td>350694.428748</td>\n",
       "    </tr>\n",
       "    <tr>\n",
       "      <th>4</th>\n",
       "      <td>257.888000</td>\n",
       "      <td>1409.666667</td>\n",
       "      <td>212.109667</td>\n",
       "      <td>276.390000</td>\n",
       "      <td>139961.0</td>\n",
       "      <td>444.66</td>\n",
       "      <td>232.933333</td>\n",
       "      <td>353.19</td>\n",
       "      <td>3.700000</td>\n",
       "      <td>3.157692</td>\n",
       "      <td>5.433333</td>\n",
       "      <td>327100.0</td>\n",
       "      <td>358373.820659</td>\n",
       "    </tr>\n",
       "    <tr>\n",
       "      <th>2020</th>\n",
       "      <th>1</th>\n",
       "      <td>258.767333</td>\n",
       "      <td>1468.000000</td>\n",
       "      <td>213.609333</td>\n",
       "      <td>281.653333</td>\n",
       "      <td>140266.0</td>\n",
       "      <td>449.81</td>\n",
       "      <td>234.766667</td>\n",
       "      <td>354.77</td>\n",
       "      <td>3.521538</td>\n",
       "      <td>2.983077</td>\n",
       "      <td>5.933333</td>\n",
       "      <td>329000.0</td>\n",
       "      <td>364294.770102</td>\n",
       "    </tr>\n",
       "  </tbody>\n",
       "</table>\n",
       "</div>"
      ],
      "text/plain": [
       "          CPIAUCSL        HOUST  CSUSHPINSA  HPIPONM226S  ETOTALUSQ176N  \\\n",
       "2019 1  253.385667  1185.000000  204.805333   265.070000       139069.0   \n",
       "     2  255.247333  1267.333333  209.215000   268.286667       139360.0   \n",
       "     3  256.089333  1304.000000  211.642667   271.656667       139655.0   \n",
       "     4  257.888000  1409.666667  212.109667   276.390000       139961.0   \n",
       "2020 1  258.767333  1468.000000  213.609333   281.653333       140266.0   \n",
       "\n",
       "        USSTHPI  WPUSI012011  ILSTHPI  MORTGAGE30US  MORTGAGE15US    MSACSR  \\\n",
       "2019 1   428.05   238.233333   343.17      4.373846      3.815385  6.366667   \n",
       "     2   435.20   236.933333   348.17      4.010769      3.464615  5.900000   \n",
       "     3   440.74   234.800000   351.52      3.658462      3.129231  5.566667   \n",
       "     4   444.66   232.933333   353.19      3.700000      3.157692  5.433333   \n",
       "2020 1   449.81   234.766667   354.77      3.521538      2.983077  5.933333   \n",
       "\n",
       "           MSPUS  MSPUS_lr_predicted  \n",
       "2019 1  313000.0       338206.066520  \n",
       "     2  322500.0       345529.091282  \n",
       "     3  318400.0       350694.428748  \n",
       "     4  327100.0       358373.820659  \n",
       "2020 1  329000.0       364294.770102  "
      ]
     },
     "execution_count": 19,
     "metadata": {},
     "output_type": "execute_result"
    }
   ],
   "source": [
    "# Create a copy of the original data\n",
    "housing_predictions_df = housing_data_df.copy().loc[training_end+1:]\n",
    "\n",
    "# Add a column with the predicted sales values\n",
    "housing_predictions_df[\"MSPUS_lr_predicted\"] = predicted_y_values\n",
    "\n",
    "# Display sample data\n",
    "housing_predictions_df.head()"
   ]
  },
  {
   "cell_type": "code",
   "execution_count": 20,
   "id": "cbbfa38f-59aa-4260-b84e-5ea296be658c",
   "metadata": {
    "tags": []
   },
   "outputs": [
    {
     "data": {
      "text/plain": [
       "<Axes: >"
      ]
     },
     "execution_count": 20,
     "metadata": {},
     "output_type": "execute_result"
    },
    {
     "data": {
      "image/png": "[encoded data removed]",
      "text/plain": [
       "<Figure size 640x480 with 1 Axes>"
      ]
     },
     "metadata": {},
     "output_type": "display_data"
    }
   ],
   "source": [
    "housing_predictions_df[['MSPUS', 'MSPUS_lr_predicted']].plot()"
   ]
  },
  {
   "cell_type": "code",
   "execution_count": 21,
   "id": "5b771f3c-d043-402f-9708-3c2d8675ab8a",
   "metadata": {
    "tags": []
   },
   "outputs": [
    {
     "name": "stdout",
     "output_type": "stream",
     "text": [
      "Mean Squared Error: 5997293684.210526\n"
     ]
    },
    {
     "data": {
      "text/plain": [
       "array([0.01231137, 0.01683648, 0.00394788, 0.04758286, 0.71691597,\n",
       "       0.00205845, 0.17889304, 0.01569461, 0.0008183 , 0.00312922,\n",
       "       0.00181182])"
      ]
     },
     "execution_count": 21,
     "metadata": {},
     "output_type": "execute_result"
    }
   ],
   "source": [
    "# Create a decision tree model\n",
    "decision_tree_model = DecisionTreeRegressor(random_state=42)\n",
    "\n",
    "# Train the model\n",
    "decision_tree_model.fit(X_train_scaled, y_train)\n",
    "\n",
    "# Make predictions on the test set\n",
    "y_pred = decision_tree_model.predict(X_test_scaled)\n",
    "\n",
    "# Evaluate the model\n",
    "mse = mean_squared_error(y_test, y_pred)\n",
    "print(f'Mean Squared Error: {mse}')\n",
    "housing_predictions_df[\"MSPUS_dt_predicted\"] = y_pred\n",
    "\n",
    "decision_tree_model.feature_importances_"
   ]
  },
  {
   "cell_type": "code",
   "execution_count": 22,
   "id": "06bb9d03-767d-4c25-9213-731da3b6082c",
   "metadata": {
    "tags": []
   },
   "outputs": [
    {
     "data": {
      "text/plain": [
       "<Axes: >"
      ]
     },
     "execution_count": 22,
     "metadata": {},
     "output_type": "execute_result"
    },
    {
     "data": {
      "image/png": "[encoded data removed]",
      "text/plain": [
       "<Figure size 640x480 with 1 Axes>"
      ]
     },
     "metadata": {},
     "output_type": "display_data"
    }
   ],
   "source": [
    "housing_predictions_df[['MSPUS', 'MSPUS_dt_predicted']].plot()"
   ]
  },
  {
   "cell_type": "code",
   "execution_count": 23,
   "id": "fe02895e-3191-4a21-9ec8-d474e19a843b",
   "metadata": {
    "tags": []
   },
   "outputs": [
    {
     "name": "stdout",
     "output_type": "stream",
     "text": [
      "Mean Squared Error: 6297248238.105263\n"
     ]
    }
   ],
   "source": [
    "# Create a Random Forest Regressor model\n",
    "random_forest_model = RandomForestRegressor(random_state=42)\n",
    "\n",
    "# Train the model\n",
    "random_forest_model.fit(X_train_scaled, y_train.values.ravel())\n",
    "\n",
    "# Make predictions on the test set\n",
    "y_pred = random_forest_model.predict(X_test_scaled)\n",
    "\n",
    "# Evaluate the model\n",
    "mse = mean_squared_error(y_test, y_pred)\n",
    "print(f'Mean Squared Error: {mse}')\n",
    "housing_predictions_df[\"MSPUS_rfr_predicted\"] = y_pred"
   ]
  },
  {
   "cell_type": "code",
   "execution_count": 24,
   "id": "91a0a662-6f44-4702-9ae9-fbc8f7fb2643",
   "metadata": {
    "tags": []
   },
   "outputs": [
    {
     "data": {
      "text/plain": [
       "<Axes: >"
      ]
     },
     "execution_count": 24,
     "metadata": {},
     "output_type": "execute_result"
    },
    {
     "data": {
      "image/png": "[encoded data removed]",
      "text/plain": [
       "<Figure size 640x480 with 1 Axes>"
      ]
     },
     "metadata": {},
     "output_type": "display_data"
    }
   ],
   "source": [
    "housing_predictions_df[['MSPUS', 'MSPUS_rfr_predicted']].plot()"
   ]
  },
  {
   "cell_type": "code",
   "execution_count": 25,
   "id": "ba44fbe9-cc4a-43e2-9098-90d749de978a",
   "metadata": {},
   "outputs": [],
   "source": [
    "model = Sequential()\n",
    "number_inputs = len(X_train_scaled[0])\n",
    "model.add(Dense(units=6, activation=\"relu\", input_dim=number_inputs)) \n",
    "model.add(Dense(64, activation='relu'))\n",
    "model.add(Dense(1, activation='linear'))"
   ]
  },
  {
   "cell_type": "code",
   "execution_count": 26,
   "id": "99e5844c-fa99-4b38-a7d6-6e64e95ac5e2",
   "metadata": {
    "tags": []
   },
   "outputs": [
    {
     "name": "stdout",
     "output_type": "stream",
     "text": [
      "Epoch 1/50\n",
      "2/2 [==============================] - 1s 141ms/step - loss: 0.6565 - val_loss: 1.3813\n",
      "Epoch 2/50\n",
      "2/2 [==============================] - 0s 29ms/step - loss: 0.6188 - val_loss: 1.3175\n",
      "Epoch 3/50\n",
      "2/2 [==============================] - 0s 37ms/step - loss: 0.5828 - val_loss: 1.2552\n",
      "Epoch 4/50\n",
      "2/2 [==============================] - 0s 32ms/step - loss: 0.5470 - val_loss: 1.1951\n",
      "Epoch 5/50\n",
      "2/2 [==============================] - 0s 30ms/step - loss: 0.5131 - val_loss: 1.1357\n",
      "Epoch 6/50\n",
      "2/2 [==============================] - 0s 27ms/step - loss: 0.4802 - val_loss: 1.0778\n",
      "Epoch 7/50\n",
      "2/2 [==============================] - 0s 28ms/step - loss: 0.4480 - val_loss: 1.0216\n",
      "Epoch 8/50\n",
      "2/2 [==============================] - 0s 22ms/step - loss: 0.4181 - val_loss: 0.9665\n",
      "Epoch 9/50\n",
      "2/2 [==============================] - 0s 23ms/step - loss: 0.3883 - val_loss: 0.9126\n",
      "Epoch 10/50\n",
      "2/2 [==============================] - 0s 26ms/step - loss: 0.3594 - val_loss: 0.8598\n",
      "Epoch 11/50\n",
      "2/2 [==============================] - 0s 24ms/step - loss: 0.3327 - val_loss: 0.8077\n",
      "Epoch 12/50\n",
      "2/2 [==============================] - 0s 24ms/step - loss: 0.3065 - val_loss: 0.7561\n",
      "Epoch 13/50\n",
      "2/2 [==============================] - 0s 25ms/step - loss: 0.2810 - val_loss: 0.7050\n",
      "Epoch 14/50\n",
      "2/2 [==============================] - 0s 26ms/step - loss: 0.2554 - val_loss: 0.6542\n",
      "Epoch 15/50\n",
      "2/2 [==============================] - 0s 26ms/step - loss: 0.2328 - val_loss: 0.6025\n",
      "Epoch 16/50\n",
      "2/2 [==============================] - 0s 26ms/step - loss: 0.2093 - val_loss: 0.5492\n",
      "Epoch 17/50\n",
      "2/2 [==============================] - 0s 26ms/step - loss: 0.1850 - val_loss: 0.4951\n",
      "Epoch 18/50\n",
      "2/2 [==============================] - 0s 25ms/step - loss: 0.1645 - val_loss: 0.4395\n",
      "Epoch 19/50\n",
      "2/2 [==============================] - 0s 24ms/step - loss: 0.1437 - val_loss: 0.3833\n",
      "Epoch 20/50\n",
      "2/2 [==============================] - 0s 26ms/step - loss: 0.1259 - val_loss: 0.3281\n",
      "Epoch 21/50\n",
      "2/2 [==============================] - 0s 26ms/step - loss: 0.1139 - val_loss: 0.2737\n",
      "Epoch 22/50\n",
      "2/2 [==============================] - 0s 27ms/step - loss: 0.1080 - val_loss: 0.2194\n",
      "Epoch 23/50\n",
      "2/2 [==============================] - 0s 25ms/step - loss: 0.1048 - val_loss: 0.1699\n",
      "Epoch 24/50\n",
      "2/2 [==============================] - 0s 24ms/step - loss: 0.1006 - val_loss: 0.1314\n",
      "Epoch 25/50\n",
      "2/2 [==============================] - 0s 30ms/step - loss: 0.0994 - val_loss: 0.0964\n",
      "Epoch 26/50\n",
      "2/2 [==============================] - 0s 34ms/step - loss: 0.0991 - val_loss: 0.0774\n",
      "Epoch 27/50\n",
      "2/2 [==============================] - 0s 30ms/step - loss: 0.0989 - val_loss: 0.0675\n",
      "Epoch 28/50\n",
      "2/2 [==============================] - 0s 31ms/step - loss: 0.0964 - val_loss: 0.0634\n",
      "Epoch 29/50\n",
      "2/2 [==============================] - 0s 26ms/step - loss: 0.0919 - val_loss: 0.0632\n",
      "Epoch 30/50\n",
      "2/2 [==============================] - 0s 25ms/step - loss: 0.0863 - val_loss: 0.0650\n",
      "Epoch 31/50\n",
      "2/2 [==============================] - 0s 25ms/step - loss: 0.0801 - val_loss: 0.0699\n",
      "Epoch 32/50\n",
      "2/2 [==============================] - 0s 27ms/step - loss: 0.0754 - val_loss: 0.0767\n",
      "Epoch 33/50\n",
      "2/2 [==============================] - 0s 31ms/step - loss: 0.0718 - val_loss: 0.0776\n",
      "Epoch 34/50\n",
      "2/2 [==============================] - 0s 27ms/step - loss: 0.0696 - val_loss: 0.0725\n",
      "Epoch 35/50\n",
      "2/2 [==============================] - 0s 24ms/step - loss: 0.0669 - val_loss: 0.0634\n",
      "Epoch 36/50\n",
      "2/2 [==============================] - 0s 25ms/step - loss: 0.0641 - val_loss: 0.0509\n",
      "Epoch 37/50\n",
      "2/2 [==============================] - 0s 26ms/step - loss: 0.0610 - val_loss: 0.0416\n",
      "Epoch 38/50\n",
      "2/2 [==============================] - 0s 29ms/step - loss: 0.0573 - val_loss: 0.0328\n",
      "Epoch 39/50\n",
      "2/2 [==============================] - 0s 30ms/step - loss: 0.0552 - val_loss: 0.0334\n",
      "Epoch 40/50\n",
      "2/2 [==============================] - 0s 36ms/step - loss: 0.0533 - val_loss: 0.0371\n",
      "Epoch 41/50\n",
      "2/2 [==============================] - 0s 35ms/step - loss: 0.0518 - val_loss: 0.0391\n",
      "Epoch 42/50\n",
      "2/2 [==============================] - 0s 30ms/step - loss: 0.0502 - val_loss: 0.0403\n",
      "Epoch 43/50\n",
      "2/2 [==============================] - 0s 30ms/step - loss: 0.0482 - val_loss: 0.0378\n",
      "Epoch 44/50\n",
      "2/2 [==============================] - 0s 27ms/step - loss: 0.0463 - val_loss: 0.0345\n",
      "Epoch 45/50\n",
      "2/2 [==============================] - 0s 29ms/step - loss: 0.0443 - val_loss: 0.0335\n",
      "Epoch 46/50\n",
      "2/2 [==============================] - 0s 26ms/step - loss: 0.0432 - val_loss: 0.0329\n",
      "Epoch 47/50\n",
      "2/2 [==============================] - 0s 25ms/step - loss: 0.0416 - val_loss: 0.0335\n",
      "Epoch 48/50\n",
      "2/2 [==============================] - 0s 25ms/step - loss: 0.0403 - val_loss: 0.0353\n",
      "Epoch 49/50\n",
      "2/2 [==============================] - 0s 22ms/step - loss: 0.0392 - val_loss: 0.0384\n",
      "Epoch 50/50\n",
      "2/2 [==============================] - 0s 27ms/step - loss: 0.0386 - val_loss: 0.0427\n",
      "Model: \"sequential\"\n",
      "_________________________________________________________________\n",
      " Layer (type)                Output Shape              Param #   \n",
      "=================================================================\n",
      " dense (Dense)               (None, 6)                 72        \n",
      "                                                                 \n",
      " dense_1 (Dense)             (None, 64)                448       \n",
      "                                                                 \n",
      " dense_2 (Dense)             (None, 1)                 65        \n",
      "                                                                 \n",
      "=================================================================\n",
      "Total params: 585 (2.29 KB)\n",
      "Trainable params: 585 (2.29 KB)\n",
      "Non-trainable params: 0 (0.00 Byte)\n",
      "_________________________________________________________________\n"
     ]
    }
   ],
   "source": [
    "scaler = MinMaxScaler()\n",
    "y_train_scaled = scaler.fit_transform(y_train.values.reshape(-1, 1))\n",
    "\n",
    "# Transform test data using the same scaler\n",
    "y_test_scaled = scaler.transform(y_test.values.reshape(-1, 1))\n",
    "model.compile(optimizer='adam', loss='mean_absolute_error')\n",
    "\n",
    "model.fit(X_train_scaled, y_train_scaled, epochs=50, batch_size=32, validation_split=0.2)\n",
    "\n",
    "model.summary()"
   ]
  },
  {
   "cell_type": "code",
   "execution_count": 27,
   "id": "508776b8-7fb7-485a-9341-1e14d19471c0",
   "metadata": {
    "tags": []
   },
   "outputs": [
    {
     "name": "stdout",
     "output_type": "stream",
     "text": [
      "1/1 [==============================] - 0s 73ms/step\n"
     ]
    },
    {
     "data": {
      "text/plain": [
       "array([[350809.62],\n",
       "       [366281.03],\n",
       "       [380645.47],\n",
       "       [380507.56],\n",
       "       [391236.16],\n",
       "       [416357.2 ],\n",
       "       [410094.4 ],\n",
       "       [436169.4 ],\n",
       "       [459694.94],\n",
       "       [484320.78],\n",
       "       [516179.88],\n",
       "       [528584.75],\n",
       "       [532292.4 ],\n",
       "       [495795.2 ],\n",
       "       [493278.06],\n",
       "       [456303.8 ],\n",
       "       [480646.84],\n",
       "       [484082.03],\n",
       "       [481020.5 ]], dtype=float32)"
      ]
     },
     "execution_count": 27,
     "metadata": {},
     "output_type": "execute_result"
    }
   ],
   "source": [
    "y_pred_scaled = model.predict(X_test_scaled)\n",
    "y_pred = scaler.inverse_transform(y_pred_scaled)\n",
    "y_pred"
   ]
  },
  {
   "cell_type": "code",
   "execution_count": 28,
   "id": "84ffb796-56e9-42aa-b826-9aec48cb3250",
   "metadata": {
    "tags": []
   },
   "outputs": [],
   "source": [
    "housing_predictions_df[\"MSPUS_neural_predicted\"] = y_pred"
   ]
  },
  {
   "cell_type": "code",
   "execution_count": 29,
   "id": "32d9ffd1-59b7-4476-9211-383108873741",
   "metadata": {
    "tags": []
   },
   "outputs": [
    {
     "data": {
      "text/plain": [
       "<Axes: >"
      ]
     },
     "execution_count": 29,
     "metadata": {},
     "output_type": "execute_result"
    },
    {
     "data": {
      "image/png": "[encoded data removed]",
      "text/plain": [
       "<Figure size 640x480 with 1 Axes>"
      ]
     },
     "metadata": {},
     "output_type": "display_data"
    }
   ],
   "source": [
    "housing_predictions_df[['MSPUS', 'MSPUS_neural_predicted']].plot()"
   ]
  },
  {
   "cell_type": "code",
   "execution_count": 30,
   "id": "ceeacf71-18db-488a-82b3-5c0d856ca23a",
   "metadata": {
    "tags": []
   },
   "outputs": [
    {
     "data": {
      "text/html": [
       "<div>\n",
       "<style scoped>\n",
       "    .dataframe tbody tr th:only-of-type {\n",
       "        vertical-align: middle;\n",
       "    }\n",
       "\n",
       "    .dataframe tbody tr th {\n",
       "        vertical-align: top;\n",
       "    }\n",
       "\n",
       "    .dataframe thead th {\n",
       "        text-align: right;\n",
       "    }\n",
       "</style>\n",
       "<table border=\"1\" class=\"dataframe\">\n",
       "  <thead>\n",
       "    <tr style=\"text-align: right;\">\n",
       "      <th></th>\n",
       "      <th></th>\n",
       "      <th>CPIAUCSL</th>\n",
       "      <th>HOUST</th>\n",
       "      <th>CSUSHPINSA</th>\n",
       "      <th>HPIPONM226S</th>\n",
       "      <th>ETOTALUSQ176N</th>\n",
       "      <th>USSTHPI</th>\n",
       "      <th>WPUSI012011</th>\n",
       "      <th>ILSTHPI</th>\n",
       "      <th>MORTGAGE30US</th>\n",
       "      <th>MORTGAGE15US</th>\n",
       "      <th>MSACSR</th>\n",
       "      <th>MSPUS</th>\n",
       "      <th>MSPUS_lr_predicted</th>\n",
       "      <th>MSPUS_dt_predicted</th>\n",
       "      <th>MSPUS_rfr_predicted</th>\n",
       "      <th>MSPUS_neural_predicted</th>\n",
       "    </tr>\n",
       "  </thead>\n",
       "  <tbody>\n",
       "    <tr>\n",
       "      <th rowspan=\"4\" valign=\"top\">2019</th>\n",
       "      <th>1</th>\n",
       "      <td>253.385667</td>\n",
       "      <td>1185.000000</td>\n",
       "      <td>204.805333</td>\n",
       "      <td>265.070000</td>\n",
       "      <td>139069.0</td>\n",
       "      <td>428.05</td>\n",
       "      <td>238.233333</td>\n",
       "      <td>343.17</td>\n",
       "      <td>4.373846</td>\n",
       "      <td>3.815385</td>\n",
       "      <td>6.366667</td>\n",
       "      <td>313000.0</td>\n",
       "      <td>338206.066520</td>\n",
       "      <td>322800.0</td>\n",
       "      <td>323846.0</td>\n",
       "      <td>350809.62500</td>\n",
       "    </tr>\n",
       "    <tr>\n",
       "      <th>2</th>\n",
       "      <td>255.247333</td>\n",
       "      <td>1267.333333</td>\n",
       "      <td>209.215000</td>\n",
       "      <td>268.286667</td>\n",
       "      <td>139360.0</td>\n",
       "      <td>435.20</td>\n",
       "      <td>236.933333</td>\n",
       "      <td>348.17</td>\n",
       "      <td>4.010769</td>\n",
       "      <td>3.464615</td>\n",
       "      <td>5.900000</td>\n",
       "      <td>322500.0</td>\n",
       "      <td>345529.091282</td>\n",
       "      <td>330900.0</td>\n",
       "      <td>326076.0</td>\n",
       "      <td>366281.03125</td>\n",
       "    </tr>\n",
       "    <tr>\n",
       "      <th>3</th>\n",
       "      <td>256.089333</td>\n",
       "      <td>1304.000000</td>\n",
       "      <td>211.642667</td>\n",
       "      <td>271.656667</td>\n",
       "      <td>139655.0</td>\n",
       "      <td>440.74</td>\n",
       "      <td>234.800000</td>\n",
       "      <td>351.52</td>\n",
       "      <td>3.658462</td>\n",
       "      <td>3.129231</td>\n",
       "      <td>5.566667</td>\n",
       "      <td>318400.0</td>\n",
       "      <td>350694.428748</td>\n",
       "      <td>330900.0</td>\n",
       "      <td>327723.0</td>\n",
       "      <td>380645.46875</td>\n",
       "    </tr>\n",
       "    <tr>\n",
       "      <th>4</th>\n",
       "      <td>257.888000</td>\n",
       "      <td>1409.666667</td>\n",
       "      <td>212.109667</td>\n",
       "      <td>276.390000</td>\n",
       "      <td>139961.0</td>\n",
       "      <td>444.66</td>\n",
       "      <td>232.933333</td>\n",
       "      <td>353.19</td>\n",
       "      <td>3.700000</td>\n",
       "      <td>3.157692</td>\n",
       "      <td>5.433333</td>\n",
       "      <td>327100.0</td>\n",
       "      <td>358373.820659</td>\n",
       "      <td>330900.0</td>\n",
       "      <td>328369.0</td>\n",
       "      <td>380507.56250</td>\n",
       "    </tr>\n",
       "    <tr>\n",
       "      <th>2020</th>\n",
       "      <th>1</th>\n",
       "      <td>258.767333</td>\n",
       "      <td>1468.000000</td>\n",
       "      <td>213.609333</td>\n",
       "      <td>281.653333</td>\n",
       "      <td>140266.0</td>\n",
       "      <td>449.81</td>\n",
       "      <td>234.766667</td>\n",
       "      <td>354.77</td>\n",
       "      <td>3.521538</td>\n",
       "      <td>2.983077</td>\n",
       "      <td>5.933333</td>\n",
       "      <td>329000.0</td>\n",
       "      <td>364294.770102</td>\n",
       "      <td>330900.0</td>\n",
       "      <td>328064.0</td>\n",
       "      <td>391236.15625</td>\n",
       "    </tr>\n",
       "  </tbody>\n",
       "</table>\n",
       "</div>"
      ],
      "text/plain": [
       "          CPIAUCSL        HOUST  CSUSHPINSA  HPIPONM226S  ETOTALUSQ176N  \\\n",
       "2019 1  253.385667  1185.000000  204.805333   265.070000       139069.0   \n",
       "     2  255.247333  1267.333333  209.215000   268.286667       139360.0   \n",
       "     3  256.089333  1304.000000  211.642667   271.656667       139655.0   \n",
       "     4  257.888000  1409.666667  212.109667   276.390000       139961.0   \n",
       "2020 1  258.767333  1468.000000  213.609333   281.653333       140266.0   \n",
       "\n",
       "        USSTHPI  WPUSI012011  ILSTHPI  MORTGAGE30US  MORTGAGE15US    MSACSR  \\\n",
       "2019 1   428.05   238.233333   343.17      4.373846      3.815385  6.366667   \n",
       "     2   435.20   236.933333   348.17      4.010769      3.464615  5.900000   \n",
       "     3   440.74   234.800000   351.52      3.658462      3.129231  5.566667   \n",
       "     4   444.66   232.933333   353.19      3.700000      3.157692  5.433333   \n",
       "2020 1   449.81   234.766667   354.77      3.521538      2.983077  5.933333   \n",
       "\n",
       "           MSPUS  MSPUS_lr_predicted  MSPUS_dt_predicted  MSPUS_rfr_predicted  \\\n",
       "2019 1  313000.0       338206.066520            322800.0             323846.0   \n",
       "     2  322500.0       345529.091282            330900.0             326076.0   \n",
       "     3  318400.0       350694.428748            330900.0             327723.0   \n",
       "     4  327100.0       358373.820659            330900.0             328369.0   \n",
       "2020 1  329000.0       364294.770102            330900.0             328064.0   \n",
       "\n",
       "        MSPUS_neural_predicted  \n",
       "2019 1            350809.62500  \n",
       "     2            366281.03125  \n",
       "     3            380645.46875  \n",
       "     4            380507.56250  \n",
       "2020 1            391236.15625  "
      ]
     },
     "execution_count": 30,
     "metadata": {},
     "output_type": "execute_result"
    }
   ],
   "source": [
    "housing_predictions_df.head()"
   ]
  },
  {
   "cell_type": "code",
   "execution_count": 31,
   "id": "8149aec9-746b-4e7c-9066-d66dea6b31c8",
   "metadata": {
    "tags": []
   },
   "outputs": [
    {
     "data": {
      "text/plain": [
       "<Axes: >"
      ]
     },
     "execution_count": 31,
     "metadata": {},
     "output_type": "execute_result"
    },
    {
     "data": {
      "image/png": "[encoded data removed]",
      "text/plain": [
       "<Figure size 640x480 with 1 Axes>"
      ]
     },
     "metadata": {},
     "output_type": "display_data"
    }
   ],
   "source": [
    "housing_predictions_df[['MSPUS', 'MSPUS_lr_predicted', 'MSPUS_neural_predicted', 'MSPUS_dt_predicted']].plot()"
   ]
  },
  {
   "cell_type": "code",
   "execution_count": null,
   "id": "1fe0eda6-6b40-48f2-a921-b9ea0c75196e",
   "metadata": {},
   "outputs": [],
   "source": []
  }
 ],
 "metadata": {
  "kernelspec": {
   "display_name": "Python 3 (ipykernel)",
   "language": "python",
   "name": "python3"
  },
  "language_info": {
   "codemirror_mode": {
    "name": "ipython",
    "version": 3
   },
   "file_extension": ".py",
   "mimetype": "text/x-python",
   "name": "python",
   "nbconvert_exporter": "python",
   "pygments_lexer": "ipython3",
   "version": "3.10.13"
  }
 },
 "nbformat": 4,
 "nbformat_minor": 5
}
